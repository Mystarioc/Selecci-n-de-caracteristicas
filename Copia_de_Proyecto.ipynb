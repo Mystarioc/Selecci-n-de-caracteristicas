{
  "nbformat": 4,
  "nbformat_minor": 0,
  "metadata": {
    "colab": {
      "name": "Copia de Proyecto.ipynb",
      "provenance": [],
      "collapsed_sections": []
    },
    "kernelspec": {
      "name": "python3",
      "display_name": "Python 3"
    },
    "language_info": {
      "name": "python"
    }
  },
  "cells": [
    {
      "cell_type": "markdown",
      "source": [
        "## Importacion de librerias"
      ],
      "metadata": {
        "id": "mPR5BnEiGr1T"
      }
    },
    {
      "cell_type": "code",
      "execution_count": 1,
      "metadata": {
        "id": "ciOwxwbz0k2b"
      },
      "outputs": [],
      "source": [
        "# En este apartado se realizará la importación de todas las librerías \n",
        "# a ser ocupadas para la creación del modelo como tersor flow , pandas ,sklearn \n",
        "# y numpy\n",
        "import tensorflow as tf\n",
        "import pandas as pd\n",
        "from sklearn.model_selection import train_test_split\n",
        "import sklearn\n",
        "from sklearn.ensemble import RandomForestClassifier\n",
        "import numpy as np"
      ]
    },
    {
      "cell_type": "markdown",
      "source": [
        "## importacion del drive al colab"
      ],
      "metadata": {
        "id": "fzM_wH07GzbE"
      }
    },
    {
      "cell_type": "code",
      "source": [
        "# El entorno de trabajo es colab por lo que es necesario importar el drive si nuestros archivos se \n",
        "# encuentran en este.\n",
        "from google.colab import drive\n",
        "drive.mount('/content/drive')"
      ],
      "metadata": {
        "id": "ggYblv7RJw-z",
        "colab": {
          "base_uri": "https://localhost:8080/"
        },
        "outputId": "43da000c-27f4-4121-8c1b-eedb997dc67a"
      },
      "execution_count": 2,
      "outputs": [
        {
          "output_type": "stream",
          "name": "stdout",
          "text": [
            "Drive already mounted at /content/drive; to attempt to forcibly remount, call drive.mount(\"/content/drive\", force_remount=True).\n"
          ]
        }
      ]
    },
    {
      "cell_type": "markdown",
      "source": [
        "## Lectura del archivo de excel y colocacion de nombres a las columnas del dataframe"
      ],
      "metadata": {
        "id": "cylop5J1G6UV"
      }
    },
    {
      "cell_type": "code",
      "source": [
        "# Mediante la librería de pandas mandamos a buscar el archivo a la carpeta contenida en el drive\n",
        "# una vez encontrado se colocaran tags a las columnas del dataframe\n",
        "\n",
        "df = pd.read_excel(\"/content/drive/MyDrive/Colab/ResultadosCompleto.xlsx\")\n",
        "df= pd.DataFrame(df, columns= ['edad','genero','personalidad','estilo'])\n"
      ],
      "metadata": {
        "id": "8DtUcuYR0xyB"
      },
      "execution_count": 3,
      "outputs": []
    },
    {
      "cell_type": "markdown",
      "source": [
        "## Verificacion de datos nulos en el dataframe, analisis del tipo de datos y total de registros"
      ],
      "metadata": {
        "id": "Hd3qhqzWHJL7"
      }
    },
    {
      "cell_type": "code",
      "source": [
        "# Analisismos el datraframe asegurandonos de que no existan registros con valores nulos ,además de\n",
        "# obtener el tipo de datos que contienen las columnas y el número total de registros\n",
        "\n",
        "df.info(verbose=True,null_counts=True)\n"
      ],
      "metadata": {
        "id": "SB2WrF2GyBSs",
        "colab": {
          "base_uri": "https://localhost:8080/"
        },
        "outputId": "8cadb82e-7b8f-454a-e9b7-09e60fa8d2ab"
      },
      "execution_count": 4,
      "outputs": [
        {
          "output_type": "stream",
          "name": "stdout",
          "text": [
            "<class 'pandas.core.frame.DataFrame'>\n",
            "RangeIndex: 2210 entries, 0 to 2209\n",
            "Data columns (total 4 columns):\n",
            " #   Column        Non-Null Count  Dtype \n",
            "---  ------        --------------  ----- \n",
            " 0   edad          2210 non-null   int64 \n",
            " 1   genero        2210 non-null   object\n",
            " 2   personalidad  2210 non-null   object\n",
            " 3   estilo        2210 non-null   int64 \n",
            "dtypes: int64(2), object(2)\n",
            "memory usage: 69.2+ KB\n"
          ]
        },
        {
          "output_type": "stream",
          "name": "stderr",
          "text": [
            "/usr/local/lib/python3.7/dist-packages/ipykernel_launcher.py:4: FutureWarning: null_counts is deprecated. Use show_counts instead\n",
            "  after removing the cwd from sys.path.\n"
          ]
        }
      ]
    },
    {
      "cell_type": "markdown",
      "source": [
        "## Discriminacion de datos entre el rango de edad de 17 a 30 años"
      ],
      "metadata": {
        "id": "PDwe2EgyHTgD"
      }
    },
    {
      "cell_type": "code",
      "source": [
        "# Tomamos los datos de interés por lo que tenemos que descartar todos los datos que no necesitemos\n",
        "# en la siguiente función se realiza la toma de los datos que se encuentren entre 17 a 30 años\n",
        "\n",
        "df=df[df['edad']>16]\n",
        "df=df[df['edad']<31]\n",
        "df"
      ],
      "metadata": {
        "id": "1qZbbF0c6NZg",
        "colab": {
          "base_uri": "https://localhost:8080/",
          "height": 424
        },
        "outputId": "7446008d-83da-41f2-cf31-0784389ad6a0"
      },
      "execution_count": 5,
      "outputs": [
        {
          "output_type": "execute_result",
          "data": {
            "text/html": [
              "\n",
              "  <div id=\"df-694f74a2-0d72-41da-abfe-957958c9e2ea\">\n",
              "    <div class=\"colab-df-container\">\n",
              "      <div>\n",
              "<style scoped>\n",
              "    .dataframe tbody tr th:only-of-type {\n",
              "        vertical-align: middle;\n",
              "    }\n",
              "\n",
              "    .dataframe tbody tr th {\n",
              "        vertical-align: top;\n",
              "    }\n",
              "\n",
              "    .dataframe thead th {\n",
              "        text-align: right;\n",
              "    }\n",
              "</style>\n",
              "<table border=\"1\" class=\"dataframe\">\n",
              "  <thead>\n",
              "    <tr style=\"text-align: right;\">\n",
              "      <th></th>\n",
              "      <th>edad</th>\n",
              "      <th>genero</th>\n",
              "      <th>personalidad</th>\n",
              "      <th>estilo</th>\n",
              "    </tr>\n",
              "  </thead>\n",
              "  <tbody>\n",
              "    <tr>\n",
              "      <th>0</th>\n",
              "      <td>25</td>\n",
              "      <td>Masculino</td>\n",
              "      <td>Confiable</td>\n",
              "      <td>5</td>\n",
              "    </tr>\n",
              "    <tr>\n",
              "      <th>1</th>\n",
              "      <td>28</td>\n",
              "      <td>Femenino</td>\n",
              "      <td>Animado</td>\n",
              "      <td>4</td>\n",
              "    </tr>\n",
              "    <tr>\n",
              "      <th>2</th>\n",
              "      <td>18</td>\n",
              "      <td>Femenino</td>\n",
              "      <td>Animado</td>\n",
              "      <td>6</td>\n",
              "    </tr>\n",
              "    <tr>\n",
              "      <th>4</th>\n",
              "      <td>21</td>\n",
              "      <td>Masculino</td>\n",
              "      <td>Confiable</td>\n",
              "      <td>3</td>\n",
              "    </tr>\n",
              "    <tr>\n",
              "      <th>5</th>\n",
              "      <td>20</td>\n",
              "      <td>Masculino</td>\n",
              "      <td>Animado</td>\n",
              "      <td>10</td>\n",
              "    </tr>\n",
              "    <tr>\n",
              "      <th>...</th>\n",
              "      <td>...</td>\n",
              "      <td>...</td>\n",
              "      <td>...</td>\n",
              "      <td>...</td>\n",
              "    </tr>\n",
              "    <tr>\n",
              "      <th>2205</th>\n",
              "      <td>26</td>\n",
              "      <td>Femenino</td>\n",
              "      <td>Animado</td>\n",
              "      <td>10</td>\n",
              "    </tr>\n",
              "    <tr>\n",
              "      <th>2206</th>\n",
              "      <td>29</td>\n",
              "      <td>Femenino</td>\n",
              "      <td>Animado</td>\n",
              "      <td>1</td>\n",
              "    </tr>\n",
              "    <tr>\n",
              "      <th>2207</th>\n",
              "      <td>22</td>\n",
              "      <td>Masculino</td>\n",
              "      <td>Extravertido</td>\n",
              "      <td>8</td>\n",
              "    </tr>\n",
              "    <tr>\n",
              "      <th>2208</th>\n",
              "      <td>22</td>\n",
              "      <td>Masculino</td>\n",
              "      <td>Responsable</td>\n",
              "      <td>4</td>\n",
              "    </tr>\n",
              "    <tr>\n",
              "      <th>2209</th>\n",
              "      <td>18</td>\n",
              "      <td>Masculino</td>\n",
              "      <td>Confiable</td>\n",
              "      <td>7</td>\n",
              "    </tr>\n",
              "  </tbody>\n",
              "</table>\n",
              "<p>2077 rows × 4 columns</p>\n",
              "</div>\n",
              "      <button class=\"colab-df-convert\" onclick=\"convertToInteractive('df-694f74a2-0d72-41da-abfe-957958c9e2ea')\"\n",
              "              title=\"Convert this dataframe to an interactive table.\"\n",
              "              style=\"display:none;\">\n",
              "        \n",
              "  <svg xmlns=\"http://www.w3.org/2000/svg\" height=\"24px\"viewBox=\"0 0 24 24\"\n",
              "       width=\"24px\">\n",
              "    <path d=\"M0 0h24v24H0V0z\" fill=\"none\"/>\n",
              "    <path d=\"M18.56 5.44l.94 2.06.94-2.06 2.06-.94-2.06-.94-.94-2.06-.94 2.06-2.06.94zm-11 1L8.5 8.5l.94-2.06 2.06-.94-2.06-.94L8.5 2.5l-.94 2.06-2.06.94zm10 10l.94 2.06.94-2.06 2.06-.94-2.06-.94-.94-2.06-.94 2.06-2.06.94z\"/><path d=\"M17.41 7.96l-1.37-1.37c-.4-.4-.92-.59-1.43-.59-.52 0-1.04.2-1.43.59L10.3 9.45l-7.72 7.72c-.78.78-.78 2.05 0 2.83L4 21.41c.39.39.9.59 1.41.59.51 0 1.02-.2 1.41-.59l7.78-7.78 2.81-2.81c.8-.78.8-2.07 0-2.86zM5.41 20L4 18.59l7.72-7.72 1.47 1.35L5.41 20z\"/>\n",
              "  </svg>\n",
              "      </button>\n",
              "      \n",
              "  <style>\n",
              "    .colab-df-container {\n",
              "      display:flex;\n",
              "      flex-wrap:wrap;\n",
              "      gap: 12px;\n",
              "    }\n",
              "\n",
              "    .colab-df-convert {\n",
              "      background-color: #E8F0FE;\n",
              "      border: none;\n",
              "      border-radius: 50%;\n",
              "      cursor: pointer;\n",
              "      display: none;\n",
              "      fill: #1967D2;\n",
              "      height: 32px;\n",
              "      padding: 0 0 0 0;\n",
              "      width: 32px;\n",
              "    }\n",
              "\n",
              "    .colab-df-convert:hover {\n",
              "      background-color: #E2EBFA;\n",
              "      box-shadow: 0px 1px 2px rgba(60, 64, 67, 0.3), 0px 1px 3px 1px rgba(60, 64, 67, 0.15);\n",
              "      fill: #174EA6;\n",
              "    }\n",
              "\n",
              "    [theme=dark] .colab-df-convert {\n",
              "      background-color: #3B4455;\n",
              "      fill: #D2E3FC;\n",
              "    }\n",
              "\n",
              "    [theme=dark] .colab-df-convert:hover {\n",
              "      background-color: #434B5C;\n",
              "      box-shadow: 0px 1px 3px 1px rgba(0, 0, 0, 0.15);\n",
              "      filter: drop-shadow(0px 1px 2px rgba(0, 0, 0, 0.3));\n",
              "      fill: #FFFFFF;\n",
              "    }\n",
              "  </style>\n",
              "\n",
              "      <script>\n",
              "        const buttonEl =\n",
              "          document.querySelector('#df-694f74a2-0d72-41da-abfe-957958c9e2ea button.colab-df-convert');\n",
              "        buttonEl.style.display =\n",
              "          google.colab.kernel.accessAllowed ? 'block' : 'none';\n",
              "\n",
              "        async function convertToInteractive(key) {\n",
              "          const element = document.querySelector('#df-694f74a2-0d72-41da-abfe-957958c9e2ea');\n",
              "          const dataTable =\n",
              "            await google.colab.kernel.invokeFunction('convertToInteractive',\n",
              "                                                     [key], {});\n",
              "          if (!dataTable) return;\n",
              "\n",
              "          const docLinkHtml = 'Like what you see? Visit the ' +\n",
              "            '<a target=\"_blank\" href=https://colab.research.google.com/notebooks/data_table.ipynb>data table notebook</a>'\n",
              "            + ' to learn more about interactive tables.';\n",
              "          element.innerHTML = '';\n",
              "          dataTable['output_type'] = 'display_data';\n",
              "          await google.colab.output.renderOutput(dataTable, element);\n",
              "          const docLink = document.createElement('div');\n",
              "          docLink.innerHTML = docLinkHtml;\n",
              "          element.appendChild(docLink);\n",
              "        }\n",
              "      </script>\n",
              "    </div>\n",
              "  </div>\n",
              "  "
            ],
            "text/plain": [
              "      edad     genero  personalidad  estilo\n",
              "0       25  Masculino     Confiable       5\n",
              "1       28   Femenino       Animado       4\n",
              "2       18   Femenino       Animado       6\n",
              "4       21  Masculino     Confiable       3\n",
              "5       20  Masculino       Animado      10\n",
              "...    ...        ...           ...     ...\n",
              "2205    26   Femenino       Animado      10\n",
              "2206    29   Femenino       Animado       1\n",
              "2207    22  Masculino  Extravertido       8\n",
              "2208    22  Masculino   Responsable       4\n",
              "2209    18  Masculino     Confiable       7\n",
              "\n",
              "[2077 rows x 4 columns]"
            ]
          },
          "metadata": {},
          "execution_count": 5
        }
      ]
    },
    {
      "cell_type": "markdown",
      "source": [
        "## Caracterización de los datos para el modelo"
      ],
      "metadata": {
        "id": "3Szl2ejRHeMc"
      }
    },
    {
      "cell_type": "code",
      "source": [
        "# Se realiza la respectiva transformación de los datos para que el modelo pueda entenderlos,\n",
        "# como se puede ver en el siguiente algoritmo, todos los datos de las columnas de género y \n",
        "# personalidad se les asignará un número reemplazando los valores no numéricos\n",
        "df= df.replace(['Confiable'],1)\n",
        "df= df.replace(['Extravertido'],2)\n",
        "df= df.replace(['Animado'],3)\n",
        "df= df.replace(['Responsable'],4)\n",
        "df= df.replace(['Serio'],5)\n",
        "df= df.replace(['Masculino'],0)\n",
        "df= df.replace(['Femenino'],1)"
      ],
      "metadata": {
        "id": "752RPR9MzT2R"
      },
      "execution_count": 6,
      "outputs": []
    },
    {
      "cell_type": "code",
      "source": [
        "df"
      ],
      "metadata": {
        "id": "rJqK-4gl3JB4",
        "colab": {
          "base_uri": "https://localhost:8080/",
          "height": 424
        },
        "outputId": "c4180ced-df7d-4919-8cb0-c0c0a8e3922e"
      },
      "execution_count": 7,
      "outputs": [
        {
          "output_type": "execute_result",
          "data": {
            "text/html": [
              "\n",
              "  <div id=\"df-bf317668-5448-4cf0-9a4c-777651c81917\">\n",
              "    <div class=\"colab-df-container\">\n",
              "      <div>\n",
              "<style scoped>\n",
              "    .dataframe tbody tr th:only-of-type {\n",
              "        vertical-align: middle;\n",
              "    }\n",
              "\n",
              "    .dataframe tbody tr th {\n",
              "        vertical-align: top;\n",
              "    }\n",
              "\n",
              "    .dataframe thead th {\n",
              "        text-align: right;\n",
              "    }\n",
              "</style>\n",
              "<table border=\"1\" class=\"dataframe\">\n",
              "  <thead>\n",
              "    <tr style=\"text-align: right;\">\n",
              "      <th></th>\n",
              "      <th>edad</th>\n",
              "      <th>genero</th>\n",
              "      <th>personalidad</th>\n",
              "      <th>estilo</th>\n",
              "    </tr>\n",
              "  </thead>\n",
              "  <tbody>\n",
              "    <tr>\n",
              "      <th>0</th>\n",
              "      <td>25</td>\n",
              "      <td>0</td>\n",
              "      <td>1</td>\n",
              "      <td>5</td>\n",
              "    </tr>\n",
              "    <tr>\n",
              "      <th>1</th>\n",
              "      <td>28</td>\n",
              "      <td>1</td>\n",
              "      <td>3</td>\n",
              "      <td>4</td>\n",
              "    </tr>\n",
              "    <tr>\n",
              "      <th>2</th>\n",
              "      <td>18</td>\n",
              "      <td>1</td>\n",
              "      <td>3</td>\n",
              "      <td>6</td>\n",
              "    </tr>\n",
              "    <tr>\n",
              "      <th>4</th>\n",
              "      <td>21</td>\n",
              "      <td>0</td>\n",
              "      <td>1</td>\n",
              "      <td>3</td>\n",
              "    </tr>\n",
              "    <tr>\n",
              "      <th>5</th>\n",
              "      <td>20</td>\n",
              "      <td>0</td>\n",
              "      <td>3</td>\n",
              "      <td>10</td>\n",
              "    </tr>\n",
              "    <tr>\n",
              "      <th>...</th>\n",
              "      <td>...</td>\n",
              "      <td>...</td>\n",
              "      <td>...</td>\n",
              "      <td>...</td>\n",
              "    </tr>\n",
              "    <tr>\n",
              "      <th>2205</th>\n",
              "      <td>26</td>\n",
              "      <td>1</td>\n",
              "      <td>3</td>\n",
              "      <td>10</td>\n",
              "    </tr>\n",
              "    <tr>\n",
              "      <th>2206</th>\n",
              "      <td>29</td>\n",
              "      <td>1</td>\n",
              "      <td>3</td>\n",
              "      <td>1</td>\n",
              "    </tr>\n",
              "    <tr>\n",
              "      <th>2207</th>\n",
              "      <td>22</td>\n",
              "      <td>0</td>\n",
              "      <td>2</td>\n",
              "      <td>8</td>\n",
              "    </tr>\n",
              "    <tr>\n",
              "      <th>2208</th>\n",
              "      <td>22</td>\n",
              "      <td>0</td>\n",
              "      <td>4</td>\n",
              "      <td>4</td>\n",
              "    </tr>\n",
              "    <tr>\n",
              "      <th>2209</th>\n",
              "      <td>18</td>\n",
              "      <td>0</td>\n",
              "      <td>1</td>\n",
              "      <td>7</td>\n",
              "    </tr>\n",
              "  </tbody>\n",
              "</table>\n",
              "<p>2077 rows × 4 columns</p>\n",
              "</div>\n",
              "      <button class=\"colab-df-convert\" onclick=\"convertToInteractive('df-bf317668-5448-4cf0-9a4c-777651c81917')\"\n",
              "              title=\"Convert this dataframe to an interactive table.\"\n",
              "              style=\"display:none;\">\n",
              "        \n",
              "  <svg xmlns=\"http://www.w3.org/2000/svg\" height=\"24px\"viewBox=\"0 0 24 24\"\n",
              "       width=\"24px\">\n",
              "    <path d=\"M0 0h24v24H0V0z\" fill=\"none\"/>\n",
              "    <path d=\"M18.56 5.44l.94 2.06.94-2.06 2.06-.94-2.06-.94-.94-2.06-.94 2.06-2.06.94zm-11 1L8.5 8.5l.94-2.06 2.06-.94-2.06-.94L8.5 2.5l-.94 2.06-2.06.94zm10 10l.94 2.06.94-2.06 2.06-.94-2.06-.94-.94-2.06-.94 2.06-2.06.94z\"/><path d=\"M17.41 7.96l-1.37-1.37c-.4-.4-.92-.59-1.43-.59-.52 0-1.04.2-1.43.59L10.3 9.45l-7.72 7.72c-.78.78-.78 2.05 0 2.83L4 21.41c.39.39.9.59 1.41.59.51 0 1.02-.2 1.41-.59l7.78-7.78 2.81-2.81c.8-.78.8-2.07 0-2.86zM5.41 20L4 18.59l7.72-7.72 1.47 1.35L5.41 20z\"/>\n",
              "  </svg>\n",
              "      </button>\n",
              "      \n",
              "  <style>\n",
              "    .colab-df-container {\n",
              "      display:flex;\n",
              "      flex-wrap:wrap;\n",
              "      gap: 12px;\n",
              "    }\n",
              "\n",
              "    .colab-df-convert {\n",
              "      background-color: #E8F0FE;\n",
              "      border: none;\n",
              "      border-radius: 50%;\n",
              "      cursor: pointer;\n",
              "      display: none;\n",
              "      fill: #1967D2;\n",
              "      height: 32px;\n",
              "      padding: 0 0 0 0;\n",
              "      width: 32px;\n",
              "    }\n",
              "\n",
              "    .colab-df-convert:hover {\n",
              "      background-color: #E2EBFA;\n",
              "      box-shadow: 0px 1px 2px rgba(60, 64, 67, 0.3), 0px 1px 3px 1px rgba(60, 64, 67, 0.15);\n",
              "      fill: #174EA6;\n",
              "    }\n",
              "\n",
              "    [theme=dark] .colab-df-convert {\n",
              "      background-color: #3B4455;\n",
              "      fill: #D2E3FC;\n",
              "    }\n",
              "\n",
              "    [theme=dark] .colab-df-convert:hover {\n",
              "      background-color: #434B5C;\n",
              "      box-shadow: 0px 1px 3px 1px rgba(0, 0, 0, 0.15);\n",
              "      filter: drop-shadow(0px 1px 2px rgba(0, 0, 0, 0.3));\n",
              "      fill: #FFFFFF;\n",
              "    }\n",
              "  </style>\n",
              "\n",
              "      <script>\n",
              "        const buttonEl =\n",
              "          document.querySelector('#df-bf317668-5448-4cf0-9a4c-777651c81917 button.colab-df-convert');\n",
              "        buttonEl.style.display =\n",
              "          google.colab.kernel.accessAllowed ? 'block' : 'none';\n",
              "\n",
              "        async function convertToInteractive(key) {\n",
              "          const element = document.querySelector('#df-bf317668-5448-4cf0-9a4c-777651c81917');\n",
              "          const dataTable =\n",
              "            await google.colab.kernel.invokeFunction('convertToInteractive',\n",
              "                                                     [key], {});\n",
              "          if (!dataTable) return;\n",
              "\n",
              "          const docLinkHtml = 'Like what you see? Visit the ' +\n",
              "            '<a target=\"_blank\" href=https://colab.research.google.com/notebooks/data_table.ipynb>data table notebook</a>'\n",
              "            + ' to learn more about interactive tables.';\n",
              "          element.innerHTML = '';\n",
              "          dataTable['output_type'] = 'display_data';\n",
              "          await google.colab.output.renderOutput(dataTable, element);\n",
              "          const docLink = document.createElement('div');\n",
              "          docLink.innerHTML = docLinkHtml;\n",
              "          element.appendChild(docLink);\n",
              "        }\n",
              "      </script>\n",
              "    </div>\n",
              "  </div>\n",
              "  "
            ],
            "text/plain": [
              "      edad  genero  personalidad  estilo\n",
              "0       25       0             1       5\n",
              "1       28       1             3       4\n",
              "2       18       1             3       6\n",
              "4       21       0             1       3\n",
              "5       20       0             3      10\n",
              "...    ...     ...           ...     ...\n",
              "2205    26       1             3      10\n",
              "2206    29       1             3       1\n",
              "2207    22       0             2       8\n",
              "2208    22       0             4       4\n",
              "2209    18       0             1       7\n",
              "\n",
              "[2077 rows x 4 columns]"
            ]
          },
          "metadata": {},
          "execution_count": 7
        }
      ]
    },
    {
      "cell_type": "markdown",
      "source": [
        "## Seleccion de  X y Y"
      ],
      "metadata": {
        "id": "tTmaUbVmPXFg"
      }
    },
    {
      "cell_type": "code",
      "source": [
        "# Para la seleccion del X y Y es necesario identificar cuales son los valores\n",
        "# de entrada y de salida de nuestro modelo, para esto el X seran las columnas de\n",
        "# edad , genero y personalidad\n",
        "X = df.iloc[:,0:3]\n",
        "y = df.iloc[:,[3]]\n"
      ],
      "metadata": {
        "id": "JFWErW8GMqg8"
      },
      "execution_count": 8,
      "outputs": []
    },
    {
      "cell_type": "markdown",
      "source": [
        "## Normalizacion de los datos\n"
      ],
      "metadata": {
        "id": "2Qy6uSfkTpmV"
      }
    },
    {
      "cell_type": "code",
      "source": [
        "# Se realizó un proceso de normalización de los datos, la siguiente línea de código\n",
        "# se encargan de tomar tanto X como Y y los volverá escalares e independiente entre sí\n",
        "# haciendo que su norma sea igual a 1\n",
        "X_norm = sklearn.preprocessing.normalize(X)\n",
        "y_norm =sklearn.preprocessing.normalize(y)"
      ],
      "metadata": {
        "id": "l5DVY2RnEe6O"
      },
      "execution_count": 9,
      "outputs": []
    },
    {
      "cell_type": "markdown",
      "source": [
        "## División de los datos para entrenamiento y evaluación"
      ],
      "metadata": {
        "id": "V6izlI-uVHyU"
      }
    },
    {
      "cell_type": "code",
      "source": [
        "# Dividimos los datos en dos partes, una para el entrenamiento que consta del 70% de los datos\n",
        "# y la otra parte para la evaluación del modelo el cual consta del 30% restante de los datos\n",
        "X_train, X_test, y_train, y_test = train_test_split(X,\n",
        "                                                    y, \n",
        "                                                    test_size=0.3, random_state=100)\n",
        "\n"
      ],
      "metadata": {
        "id": "gRGNZ_Xn_Vqw"
      },
      "execution_count": 10,
      "outputs": []
    },
    {
      "cell_type": "markdown",
      "source": [
        "## Hyperparametros"
      ],
      "metadata": {
        "id": "hGC7fUxp9EJ-"
      }
    },
    {
      "cell_type": "code",
      "source": [
        "# Se definen los hyperparametros que se utilizan para el modelo, el primer parámetro es\n",
        "# la dimensión de entrada, luego especificamos el número total de capas a utilizar, seguido \n",
        "# a este parámetro se define el epochs que es el número total de veces que se le enviaran los\n",
        "# datos al modelo, el \"alpha\" que representa la velocidad con la que aprenderá el modelo y por \n",
        "# último el algoritmo de optimización a utilizar.\n",
        "param_grid = {\n",
        "    'input_dim': [3], \n",
        "    'n_layers': [1],\n",
        "    'epochs': [100],\n",
        "    'alpha': [0.05],\n",
        "    'Optimizer': ['adam'],\n",
        "    }"
      ],
      "metadata": {
        "id": "GGDJvEydKeX6"
      },
      "execution_count": 11,
      "outputs": []
    },
    {
      "cell_type": "markdown",
      "source": [
        "## Seleccion de caracteristicas"
      ],
      "metadata": {
        "id": "lB5rSWCGZlOb"
      }
    },
    {
      "cell_type": "code",
      "source": [
        "# Según varias investigaciones y sistemas de modelos de predicción desarrollados hasta la \n",
        "# fecha, en temas de la moda y la personalidad, se definen las redes neuronales como uno \n",
        "# de los algoritmos más acertados para estas implementaciones. Así también, otros de los \n",
        "# modelos utilizados frecuentemente para este tema, es el Support Vector Machine (SVM), \n",
        "# utilizado cuando no se tiene un grupo tan grande de datos. Sin embargo, independientemente \n",
        "# del modelo que se vaya a utilizar para la predicción, existen diversos pasos que se deben \n",
        "# cumplir como parte inicial del desarrollo. Por lo tanto, este laboratorio tiene como \n",
        "# objetivo la realización de dichos pasos genéricos para los modelos. Como resultado, \n",
        "# se tiene el dataset completamente limpio, transformado y dividido entre los datos que son \n",
        "# para entrenar y los que son de testeo.\n",
        "RF = RandomForestClassifier(max_depth=7, n_estimators=100)\n",
        "RF.fit(X_train, y_train)\n",
        "y_pred_RF= RF.predict(X_test)\n",
        "\n",
        "df = pd.DataFrame()\n",
        "\n",
        "cols = ['Machine Learning Classification Method',\n",
        "        'Train Accuracy', \n",
        "        'Test Accuracy', \n",
        "        \"Top 1 Feature Predictor\",\n",
        "        \"Top 2 Feature Predictor\",\n",
        "        \"Top 3 Feature Predictor\"]\n",
        "\n",
        "df.loc['Machine Learning Classification Method', \n",
        "       'Details'] = 'Random Forest Classifier'\n",
        "df.loc['Train Accuracy', 'Details'] = RF.score(X_train, y_train) \n",
        "df.loc['Test Accuracy', 'Details'] = RF.score(X_test, y_test)\n",
        "\n",
        "feature_importances = X.columns[np.argsort(RF.feature_importances_)][-3:]\n",
        "df.loc['Top 1 Feature Predictor', 'Details'] = feature_importances[2]\n",
        "df.loc['Top 2 Feature Predictor', 'Details'] = feature_importances[1]\n",
        "df.loc['Top 3 Feature Predictor', 'Details'] = feature_importances[0]\n",
        "\n",
        "display(df)"
      ],
      "metadata": {
        "colab": {
          "base_uri": "https://localhost:8080/",
          "height": 292
        },
        "id": "yr1rbzH4Xrkj",
        "outputId": "fd961a43-1271-4555-c289-d78724449c16"
      },
      "execution_count": 12,
      "outputs": [
        {
          "output_type": "stream",
          "name": "stderr",
          "text": [
            "/usr/local/lib/python3.7/dist-packages/ipykernel_launcher.py:7: DataConversionWarning: A column-vector y was passed when a 1d array was expected. Please change the shape of y to (n_samples,), for example using ravel().\n",
            "  import sys\n"
          ]
        },
        {
          "output_type": "display_data",
          "data": {
            "text/html": [
              "\n",
              "  <div id=\"df-bb91a293-c22b-412b-bea0-a4aeaa1fc65a\">\n",
              "    <div class=\"colab-df-container\">\n",
              "      <div>\n",
              "<style scoped>\n",
              "    .dataframe tbody tr th:only-of-type {\n",
              "        vertical-align: middle;\n",
              "    }\n",
              "\n",
              "    .dataframe tbody tr th {\n",
              "        vertical-align: top;\n",
              "    }\n",
              "\n",
              "    .dataframe thead th {\n",
              "        text-align: right;\n",
              "    }\n",
              "</style>\n",
              "<table border=\"1\" class=\"dataframe\">\n",
              "  <thead>\n",
              "    <tr style=\"text-align: right;\">\n",
              "      <th></th>\n",
              "      <th>Details</th>\n",
              "    </tr>\n",
              "  </thead>\n",
              "  <tbody>\n",
              "    <tr>\n",
              "      <th>Machine Learning Classification Method</th>\n",
              "      <td>Random Forest Classifier</td>\n",
              "    </tr>\n",
              "    <tr>\n",
              "      <th>Train Accuracy</th>\n",
              "      <td>0.428768</td>\n",
              "    </tr>\n",
              "    <tr>\n",
              "      <th>Test Accuracy</th>\n",
              "      <td>0.38141</td>\n",
              "    </tr>\n",
              "    <tr>\n",
              "      <th>Top 1 Feature Predictor</th>\n",
              "      <td>personalidad</td>\n",
              "    </tr>\n",
              "    <tr>\n",
              "      <th>Top 2 Feature Predictor</th>\n",
              "      <td>edad</td>\n",
              "    </tr>\n",
              "    <tr>\n",
              "      <th>Top 3 Feature Predictor</th>\n",
              "      <td>genero</td>\n",
              "    </tr>\n",
              "  </tbody>\n",
              "</table>\n",
              "</div>\n",
              "      <button class=\"colab-df-convert\" onclick=\"convertToInteractive('df-bb91a293-c22b-412b-bea0-a4aeaa1fc65a')\"\n",
              "              title=\"Convert this dataframe to an interactive table.\"\n",
              "              style=\"display:none;\">\n",
              "        \n",
              "  <svg xmlns=\"http://www.w3.org/2000/svg\" height=\"24px\"viewBox=\"0 0 24 24\"\n",
              "       width=\"24px\">\n",
              "    <path d=\"M0 0h24v24H0V0z\" fill=\"none\"/>\n",
              "    <path d=\"M18.56 5.44l.94 2.06.94-2.06 2.06-.94-2.06-.94-.94-2.06-.94 2.06-2.06.94zm-11 1L8.5 8.5l.94-2.06 2.06-.94-2.06-.94L8.5 2.5l-.94 2.06-2.06.94zm10 10l.94 2.06.94-2.06 2.06-.94-2.06-.94-.94-2.06-.94 2.06-2.06.94z\"/><path d=\"M17.41 7.96l-1.37-1.37c-.4-.4-.92-.59-1.43-.59-.52 0-1.04.2-1.43.59L10.3 9.45l-7.72 7.72c-.78.78-.78 2.05 0 2.83L4 21.41c.39.39.9.59 1.41.59.51 0 1.02-.2 1.41-.59l7.78-7.78 2.81-2.81c.8-.78.8-2.07 0-2.86zM5.41 20L4 18.59l7.72-7.72 1.47 1.35L5.41 20z\"/>\n",
              "  </svg>\n",
              "      </button>\n",
              "      \n",
              "  <style>\n",
              "    .colab-df-container {\n",
              "      display:flex;\n",
              "      flex-wrap:wrap;\n",
              "      gap: 12px;\n",
              "    }\n",
              "\n",
              "    .colab-df-convert {\n",
              "      background-color: #E8F0FE;\n",
              "      border: none;\n",
              "      border-radius: 50%;\n",
              "      cursor: pointer;\n",
              "      display: none;\n",
              "      fill: #1967D2;\n",
              "      height: 32px;\n",
              "      padding: 0 0 0 0;\n",
              "      width: 32px;\n",
              "    }\n",
              "\n",
              "    .colab-df-convert:hover {\n",
              "      background-color: #E2EBFA;\n",
              "      box-shadow: 0px 1px 2px rgba(60, 64, 67, 0.3), 0px 1px 3px 1px rgba(60, 64, 67, 0.15);\n",
              "      fill: #174EA6;\n",
              "    }\n",
              "\n",
              "    [theme=dark] .colab-df-convert {\n",
              "      background-color: #3B4455;\n",
              "      fill: #D2E3FC;\n",
              "    }\n",
              "\n",
              "    [theme=dark] .colab-df-convert:hover {\n",
              "      background-color: #434B5C;\n",
              "      box-shadow: 0px 1px 3px 1px rgba(0, 0, 0, 0.15);\n",
              "      filter: drop-shadow(0px 1px 2px rgba(0, 0, 0, 0.3));\n",
              "      fill: #FFFFFF;\n",
              "    }\n",
              "  </style>\n",
              "\n",
              "      <script>\n",
              "        const buttonEl =\n",
              "          document.querySelector('#df-bb91a293-c22b-412b-bea0-a4aeaa1fc65a button.colab-df-convert');\n",
              "        buttonEl.style.display =\n",
              "          google.colab.kernel.accessAllowed ? 'block' : 'none';\n",
              "\n",
              "        async function convertToInteractive(key) {\n",
              "          const element = document.querySelector('#df-bb91a293-c22b-412b-bea0-a4aeaa1fc65a');\n",
              "          const dataTable =\n",
              "            await google.colab.kernel.invokeFunction('convertToInteractive',\n",
              "                                                     [key], {});\n",
              "          if (!dataTable) return;\n",
              "\n",
              "          const docLinkHtml = 'Like what you see? Visit the ' +\n",
              "            '<a target=\"_blank\" href=https://colab.research.google.com/notebooks/data_table.ipynb>data table notebook</a>'\n",
              "            + ' to learn more about interactive tables.';\n",
              "          element.innerHTML = '';\n",
              "          dataTable['output_type'] = 'display_data';\n",
              "          await google.colab.output.renderOutput(dataTable, element);\n",
              "          const docLink = document.createElement('div');\n",
              "          docLink.innerHTML = docLinkHtml;\n",
              "          element.appendChild(docLink);\n",
              "        }\n",
              "      </script>\n",
              "    </div>\n",
              "  </div>\n",
              "  "
            ],
            "text/plain": [
              "                                                         Details\n",
              "Machine Learning Classification Method  Random Forest Classifier\n",
              "Train Accuracy                                          0.428768\n",
              "Test Accuracy                                            0.38141\n",
              "Top 1 Feature Predictor                             personalidad\n",
              "Top 2 Feature Predictor                                     edad\n",
              "Top 3 Feature Predictor                                   genero"
            ]
          },
          "metadata": {}
        }
      ]
    }
  ]
}